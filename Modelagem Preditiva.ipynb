{
 "cells": [
  {
   "cell_type": "markdown",
   "id": "8836247f",
   "metadata": {},
   "source": [
    "# Métodos de aplicação\n",
    "#### Para modelagem e análise preditiva com machine learning existem dois modelos (classificação e regressão)\n",
    "\n",
    "- Classificação: é um algoritmo supervisionado de machine learning usado para prever a categoria de uma observação dada\n",
    "- Regressão linear é um algoritmo supervisionado de machine learning usado para estimar o valor de algo baseado em uma série de outros dados históricos, portanto olhando para o passado você pode “prever” o futuro\n",
    "\n",
    "###### Diferenças sobre eles: Sua principal diferença consiste na saída do modelo: na Classificação o resultado é categórico(exemplo: sim ou não) e na Regressão, o resultado é numérico e contínuo (qual a previsão das vendas no proxímo semestre?)\n",
    "------\n",
    "\n",
    "# Projeto - Modelagem Preditiva com Regressão no Consumo de Cerveja - SP \n",
    "### Link do dataset: https://www.kaggle.com/datasets/dongeorge/beer-consumption-sao-paulo?datasetId=28454\n",
    "------\n",
    "### Breve apresentação do case\n",
    "\n",
    "A cerveja é uma das bebidas mais democráticas e consumidas no mundo. Não sem razão, é perfeito para quase todas as situações, desde happy hour até grandes festas de casamento. Só de pensar já dá vontade de tomar uma cervejinha, você não está sozinho.\n",
    "A verdade é que ao redor do mundo, milhares de pessoas consomem a bebida regularmente e também em diversas situações. Mas você já parou para pensar quais são os países que mais consomem cerveja no mundo? O primeiro que veio à sua cabeça foi a Alemanha? Bem, saiba que não é assim.\n",
    "A resposta a essa pergunta é contundente: a República Tcheca. Segundo pesquisa da empresa japonesa de bebidas Kirin, o país está no topo da tabela de consumo per capita de cerveja há 23 anos consecutivos.\n",
    "Em 2015, o ano mais recente para o qual existem estatísticas, os tchecos beberam 142,4 litros por pessoa. Isso é o equivalente a 250 litros - ou um a cada 35 horas. Mas, dado que é improvável que menores de idade contribuam para esse número, é seguro assumir que o bebedor médio de cerveja provavelmente bebe um pouco mais.\n",
    "Atrás da República Tcheca estão os pretendentes de sempre. Áustria e Alemanha vêm em terceiro e quarto, Polônia em sexto e Irlanda em sétimo. No entanto, há algumas surpresas. Em segundo lugar estão as Seychelles, uma classificação elevada que atribuiremos ao clima quente e ao grande número de veraneantes.Os dados (amostra) foram coletados em São Paulo — Brasil, em uma área universitária, onde há algumas festas com turmas de alunos de 18 a 28 anos (média). "
   ]
  },
  {
   "cell_type": "code",
   "execution_count": null,
   "id": "636e4bdc",
   "metadata": {},
   "outputs": [],
   "source": []
  },
  {
   "cell_type": "markdown",
   "id": "277a080a",
   "metadata": {},
   "source": [
    "# Bibliotecas "
   ]
  },
  {
   "cell_type": "code",
   "execution_count": 20,
   "id": "2ef5aeeb",
   "metadata": {},
   "outputs": [],
   "source": [
    "import pandas as pd\n",
    "import numpy as np\n",
    "import seaborn as sns\n",
    "import warnings"
   ]
  },
  {
   "cell_type": "code",
   "execution_count": null,
   "id": "054d8efd",
   "metadata": {},
   "outputs": [],
   "source": [
    "\n"
   ]
  },
  {
   "cell_type": "markdown",
   "id": "09a4d4b5",
   "metadata": {},
   "source": [
    "## Análise Exploratoria do Dataset"
   ]
  },
  {
   "cell_type": "code",
   "execution_count": 21,
   "id": "ce71cde0",
   "metadata": {},
   "outputs": [
    {
     "data": {
      "text/html": [
       "<div>\n",
       "<style scoped>\n",
       "    .dataframe tbody tr th:only-of-type {\n",
       "        vertical-align: middle;\n",
       "    }\n",
       "\n",
       "    .dataframe tbody tr th {\n",
       "        vertical-align: top;\n",
       "    }\n",
       "\n",
       "    .dataframe thead th {\n",
       "        text-align: right;\n",
       "    }\n",
       "</style>\n",
       "<table border=\"1\" class=\"dataframe\">\n",
       "  <thead>\n",
       "    <tr style=\"text-align: right;\">\n",
       "      <th></th>\n",
       "      <th>data</th>\n",
       "      <th>temp_media</th>\n",
       "      <th>temp_min</th>\n",
       "      <th>temp_max</th>\n",
       "      <th>chuva</th>\n",
       "      <th>fds</th>\n",
       "      <th>consumo</th>\n",
       "    </tr>\n",
       "  </thead>\n",
       "  <tbody>\n",
       "    <tr>\n",
       "      <th>0</th>\n",
       "      <td>01/01/2015</td>\n",
       "      <td>27.30</td>\n",
       "      <td>23.9</td>\n",
       "      <td>32.5</td>\n",
       "      <td>0.0</td>\n",
       "      <td>0</td>\n",
       "      <td>25461</td>\n",
       "    </tr>\n",
       "    <tr>\n",
       "      <th>1</th>\n",
       "      <td>02/01/2015</td>\n",
       "      <td>27.02</td>\n",
       "      <td>24.5</td>\n",
       "      <td>33.5</td>\n",
       "      <td>0.0</td>\n",
       "      <td>0</td>\n",
       "      <td>28972</td>\n",
       "    </tr>\n",
       "    <tr>\n",
       "      <th>2</th>\n",
       "      <td>03/01/2015</td>\n",
       "      <td>24.82</td>\n",
       "      <td>22.4</td>\n",
       "      <td>29.9</td>\n",
       "      <td>0.0</td>\n",
       "      <td>1</td>\n",
       "      <td>30814</td>\n",
       "    </tr>\n",
       "    <tr>\n",
       "      <th>3</th>\n",
       "      <td>04/01/2015</td>\n",
       "      <td>23.98</td>\n",
       "      <td>21.5</td>\n",
       "      <td>28.6</td>\n",
       "      <td>1.2</td>\n",
       "      <td>1</td>\n",
       "      <td>29799</td>\n",
       "    </tr>\n",
       "    <tr>\n",
       "      <th>4</th>\n",
       "      <td>05/01/2015</td>\n",
       "      <td>23.82</td>\n",
       "      <td>21.0</td>\n",
       "      <td>28.3</td>\n",
       "      <td>0.0</td>\n",
       "      <td>0</td>\n",
       "      <td>28900</td>\n",
       "    </tr>\n",
       "    <tr>\n",
       "      <th>...</th>\n",
       "      <td>...</td>\n",
       "      <td>...</td>\n",
       "      <td>...</td>\n",
       "      <td>...</td>\n",
       "      <td>...</td>\n",
       "      <td>...</td>\n",
       "      <td>...</td>\n",
       "    </tr>\n",
       "    <tr>\n",
       "      <th>360</th>\n",
       "      <td>27/12/2015</td>\n",
       "      <td>24.00</td>\n",
       "      <td>21.1</td>\n",
       "      <td>28.2</td>\n",
       "      <td>13.6</td>\n",
       "      <td>1</td>\n",
       "      <td>32307</td>\n",
       "    </tr>\n",
       "    <tr>\n",
       "      <th>361</th>\n",
       "      <td>28/12/2015</td>\n",
       "      <td>22.64</td>\n",
       "      <td>21.1</td>\n",
       "      <td>26.7</td>\n",
       "      <td>0.0</td>\n",
       "      <td>0</td>\n",
       "      <td>26095</td>\n",
       "    </tr>\n",
       "    <tr>\n",
       "      <th>362</th>\n",
       "      <td>29/12/2015</td>\n",
       "      <td>21.68</td>\n",
       "      <td>20.3</td>\n",
       "      <td>24.1</td>\n",
       "      <td>10.3</td>\n",
       "      <td>0</td>\n",
       "      <td>22309</td>\n",
       "    </tr>\n",
       "    <tr>\n",
       "      <th>363</th>\n",
       "      <td>30/12/2015</td>\n",
       "      <td>21.38</td>\n",
       "      <td>19.3</td>\n",
       "      <td>22.4</td>\n",
       "      <td>6.3</td>\n",
       "      <td>0</td>\n",
       "      <td>20467</td>\n",
       "    </tr>\n",
       "    <tr>\n",
       "      <th>364</th>\n",
       "      <td>31/12/2015</td>\n",
       "      <td>24.76</td>\n",
       "      <td>20.2</td>\n",
       "      <td>29.0</td>\n",
       "      <td>0.0</td>\n",
       "      <td>0</td>\n",
       "      <td>22446</td>\n",
       "    </tr>\n",
       "  </tbody>\n",
       "</table>\n",
       "<p>365 rows × 7 columns</p>\n",
       "</div>"
      ],
      "text/plain": [
       "           data  temp_media  temp_min  temp_max  chuva  fds  consumo\n",
       "0    01/01/2015       27.30      23.9      32.5    0.0    0    25461\n",
       "1    02/01/2015       27.02      24.5      33.5    0.0    0    28972\n",
       "2    03/01/2015       24.82      22.4      29.9    0.0    1    30814\n",
       "3    04/01/2015       23.98      21.5      28.6    1.2    1    29799\n",
       "4    05/01/2015       23.82      21.0      28.3    0.0    0    28900\n",
       "..          ...         ...       ...       ...    ...  ...      ...\n",
       "360  27/12/2015       24.00      21.1      28.2   13.6    1    32307\n",
       "361  28/12/2015       22.64      21.1      26.7    0.0    0    26095\n",
       "362  29/12/2015       21.68      20.3      24.1   10.3    0    22309\n",
       "363  30/12/2015       21.38      19.3      22.4    6.3    0    20467\n",
       "364  31/12/2015       24.76      20.2      29.0    0.0    0    22446\n",
       "\n",
       "[365 rows x 7 columns]"
      ]
     },
     "execution_count": 21,
     "metadata": {},
     "output_type": "execute_result"
    }
   ],
   "source": [
    "#carregamento dos dados\n",
    "dados_cervejas= pd.read_csv('Consumo_cerveja.csv', sep = ';')\n",
    "dados_cervejas"
   ]
  },
  {
   "cell_type": "code",
   "execution_count": 22,
   "id": "89e1e9a0",
   "metadata": {},
   "outputs": [
    {
     "name": "stdout",
     "output_type": "stream",
     "text": [
      "<class 'pandas.core.frame.DataFrame'>\n",
      "RangeIndex: 365 entries, 0 to 364\n",
      "Data columns (total 7 columns):\n",
      " #   Column      Non-Null Count  Dtype  \n",
      "---  ------      --------------  -----  \n",
      " 0   data        365 non-null    object \n",
      " 1   temp_media  365 non-null    float64\n",
      " 2   temp_min    365 non-null    float64\n",
      " 3   temp_max    365 non-null    float64\n",
      " 4   chuva       365 non-null    float64\n",
      " 5   fds         365 non-null    int64  \n",
      " 6   consumo     365 non-null    int64  \n",
      "dtypes: float64(4), int64(2), object(1)\n",
      "memory usage: 20.1+ KB\n"
     ]
    }
   ],
   "source": [
    "# aplico o info para ver se o dataser tem dados null ou faltantes \n",
    "dados_cervejas.info()"
   ]
  },
  {
   "cell_type": "code",
   "execution_count": 23,
   "id": "a1dc11cc",
   "metadata": {},
   "outputs": [
    {
     "data": {
      "text/html": [
       "<div>\n",
       "<style scoped>\n",
       "    .dataframe tbody tr th:only-of-type {\n",
       "        vertical-align: middle;\n",
       "    }\n",
       "\n",
       "    .dataframe tbody tr th {\n",
       "        vertical-align: top;\n",
       "    }\n",
       "\n",
       "    .dataframe thead th {\n",
       "        text-align: right;\n",
       "    }\n",
       "</style>\n",
       "<table border=\"1\" class=\"dataframe\">\n",
       "  <thead>\n",
       "    <tr style=\"text-align: right;\">\n",
       "      <th></th>\n",
       "      <th>temp_media</th>\n",
       "      <th>temp_min</th>\n",
       "      <th>temp_max</th>\n",
       "      <th>chuva</th>\n",
       "      <th>fds</th>\n",
       "      <th>consumo</th>\n",
       "    </tr>\n",
       "  </thead>\n",
       "  <tbody>\n",
       "    <tr>\n",
       "      <th>count</th>\n",
       "      <td>365.00</td>\n",
       "      <td>365.00</td>\n",
       "      <td>365.00</td>\n",
       "      <td>365.00</td>\n",
       "      <td>365.00</td>\n",
       "      <td>365.00</td>\n",
       "    </tr>\n",
       "    <tr>\n",
       "      <th>mean</th>\n",
       "      <td>21.23</td>\n",
       "      <td>17.46</td>\n",
       "      <td>26.61</td>\n",
       "      <td>5.20</td>\n",
       "      <td>0.28</td>\n",
       "      <td>25401.37</td>\n",
       "    </tr>\n",
       "    <tr>\n",
       "      <th>std</th>\n",
       "      <td>3.18</td>\n",
       "      <td>2.83</td>\n",
       "      <td>4.32</td>\n",
       "      <td>12.42</td>\n",
       "      <td>0.45</td>\n",
       "      <td>4399.14</td>\n",
       "    </tr>\n",
       "    <tr>\n",
       "      <th>min</th>\n",
       "      <td>12.90</td>\n",
       "      <td>10.60</td>\n",
       "      <td>14.50</td>\n",
       "      <td>0.00</td>\n",
       "      <td>0.00</td>\n",
       "      <td>14343.00</td>\n",
       "    </tr>\n",
       "    <tr>\n",
       "      <th>25%</th>\n",
       "      <td>19.02</td>\n",
       "      <td>15.30</td>\n",
       "      <td>23.80</td>\n",
       "      <td>0.00</td>\n",
       "      <td>0.00</td>\n",
       "      <td>22008.00</td>\n",
       "    </tr>\n",
       "    <tr>\n",
       "      <th>50%</th>\n",
       "      <td>21.38</td>\n",
       "      <td>17.90</td>\n",
       "      <td>26.90</td>\n",
       "      <td>0.00</td>\n",
       "      <td>0.00</td>\n",
       "      <td>24867.00</td>\n",
       "    </tr>\n",
       "    <tr>\n",
       "      <th>75%</th>\n",
       "      <td>23.28</td>\n",
       "      <td>19.60</td>\n",
       "      <td>29.40</td>\n",
       "      <td>3.20</td>\n",
       "      <td>1.00</td>\n",
       "      <td>28631.00</td>\n",
       "    </tr>\n",
       "    <tr>\n",
       "      <th>max</th>\n",
       "      <td>28.86</td>\n",
       "      <td>24.50</td>\n",
       "      <td>36.50</td>\n",
       "      <td>94.80</td>\n",
       "      <td>1.00</td>\n",
       "      <td>37937.00</td>\n",
       "    </tr>\n",
       "  </tbody>\n",
       "</table>\n",
       "</div>"
      ],
      "text/plain": [
       "       temp_media  temp_min  temp_max   chuva     fds   consumo\n",
       "count      365.00    365.00    365.00  365.00  365.00    365.00\n",
       "mean        21.23     17.46     26.61    5.20    0.28  25401.37\n",
       "std          3.18      2.83      4.32   12.42    0.45   4399.14\n",
       "min         12.90     10.60     14.50    0.00    0.00  14343.00\n",
       "25%         19.02     15.30     23.80    0.00    0.00  22008.00\n",
       "50%         21.38     17.90     26.90    0.00    0.00  24867.00\n",
       "75%         23.28     19.60     29.40    3.20    1.00  28631.00\n",
       "max         28.86     24.50     36.50   94.80    1.00  37937.00"
      ]
     },
     "execution_count": 23,
     "metadata": {},
     "output_type": "execute_result"
    }
   ],
   "source": [
    "#Aplico o describe com essa função é aplicado uma estatistica descritiva nos dados ajudando a descrever e resumir o dataset, nenhum número descrepante foi encontrado\n",
    "dados_cervejas.describe().round(2)"
   ]
  },
  {
   "cell_type": "code",
   "execution_count": null,
   "id": "9bbdd829",
   "metadata": {},
   "outputs": [],
   "source": []
  },
  {
   "cell_type": "markdown",
   "id": "8ef0cf38",
   "metadata": {},
   "source": [
    "## Matriz de correlação \n",
    "- Aplico no dataset a matriz de correlação que é importante para entender as relação das variavéis em si, sendo -1(associação negativa) ou +1(associação positiva) \n",
    "- Correlações positivas indicam que as duas variáveis se movem na mesma direção e correlações negativas indicam uma relação oposta."
   ]
  },
  {
   "cell_type": "code",
   "execution_count": 24,
   "id": "2c8f1e67",
   "metadata": {},
   "outputs": [
    {
     "data": {
      "text/html": [
       "<div>\n",
       "<style scoped>\n",
       "    .dataframe tbody tr th:only-of-type {\n",
       "        vertical-align: middle;\n",
       "    }\n",
       "\n",
       "    .dataframe tbody tr th {\n",
       "        vertical-align: top;\n",
       "    }\n",
       "\n",
       "    .dataframe thead th {\n",
       "        text-align: right;\n",
       "    }\n",
       "</style>\n",
       "<table border=\"1\" class=\"dataframe\">\n",
       "  <thead>\n",
       "    <tr style=\"text-align: right;\">\n",
       "      <th></th>\n",
       "      <th>temp_media</th>\n",
       "      <th>temp_min</th>\n",
       "      <th>temp_max</th>\n",
       "      <th>chuva</th>\n",
       "      <th>fds</th>\n",
       "      <th>consumo</th>\n",
       "    </tr>\n",
       "  </thead>\n",
       "  <tbody>\n",
       "    <tr>\n",
       "      <th>temp_media</th>\n",
       "      <td>1.0000</td>\n",
       "      <td>0.8628</td>\n",
       "      <td>0.9225</td>\n",
       "      <td>0.0244</td>\n",
       "      <td>-0.0508</td>\n",
       "      <td>0.5746</td>\n",
       "    </tr>\n",
       "    <tr>\n",
       "      <th>temp_min</th>\n",
       "      <td>0.8628</td>\n",
       "      <td>1.0000</td>\n",
       "      <td>0.6729</td>\n",
       "      <td>0.0986</td>\n",
       "      <td>-0.0595</td>\n",
       "      <td>0.3925</td>\n",
       "    </tr>\n",
       "    <tr>\n",
       "      <th>temp_max</th>\n",
       "      <td>0.9225</td>\n",
       "      <td>0.6729</td>\n",
       "      <td>1.0000</td>\n",
       "      <td>-0.0493</td>\n",
       "      <td>-0.0403</td>\n",
       "      <td>0.6427</td>\n",
       "    </tr>\n",
       "    <tr>\n",
       "      <th>chuva</th>\n",
       "      <td>0.0244</td>\n",
       "      <td>0.0986</td>\n",
       "      <td>-0.0493</td>\n",
       "      <td>1.0000</td>\n",
       "      <td>0.0016</td>\n",
       "      <td>-0.1938</td>\n",
       "    </tr>\n",
       "    <tr>\n",
       "      <th>fds</th>\n",
       "      <td>-0.0508</td>\n",
       "      <td>-0.0595</td>\n",
       "      <td>-0.0403</td>\n",
       "      <td>0.0016</td>\n",
       "      <td>1.0000</td>\n",
       "      <td>0.5060</td>\n",
       "    </tr>\n",
       "    <tr>\n",
       "      <th>consumo</th>\n",
       "      <td>0.5746</td>\n",
       "      <td>0.3925</td>\n",
       "      <td>0.6427</td>\n",
       "      <td>-0.1938</td>\n",
       "      <td>0.5060</td>\n",
       "      <td>1.0000</td>\n",
       "    </tr>\n",
       "  </tbody>\n",
       "</table>\n",
       "</div>"
      ],
      "text/plain": [
       "            temp_media  temp_min  temp_max   chuva     fds  consumo\n",
       "temp_media      1.0000    0.8628    0.9225  0.0244 -0.0508   0.5746\n",
       "temp_min        0.8628    1.0000    0.6729  0.0986 -0.0595   0.3925\n",
       "temp_max        0.9225    0.6729    1.0000 -0.0493 -0.0403   0.6427\n",
       "chuva           0.0244    0.0986   -0.0493  1.0000  0.0016  -0.1938\n",
       "fds            -0.0508   -0.0595   -0.0403  0.0016  1.0000   0.5060\n",
       "consumo         0.5746    0.3925    0.6427 -0.1938  0.5060   1.0000"
      ]
     },
     "execution_count": 24,
     "metadata": {},
     "output_type": "execute_result"
    }
   ],
   "source": [
    "#aplico a correlação no dataset\n",
    "\n",
    "dados_cervejas.corr().round(4)"
   ]
  },
  {
   "cell_type": "code",
   "execution_count": 25,
   "id": "2819e19a",
   "metadata": {},
   "outputs": [
    {
     "data": {
      "text/plain": [
       "<AxesSubplot:>"
      ]
     },
     "execution_count": 25,
     "metadata": {},
     "output_type": "execute_result"
    },
    {
     "data": {
      "image/png": "[encoded data removed]",
      "text/plain": [
       "<Figure size 432x288 with 2 Axes>"
      ]
     },
     "metadata": {
      "needs_background": "light"
     },
     "output_type": "display_data"
    }
   ],
   "source": [
    "sns.heatmap(dados_cervejas.corr(), vmin = -1, vmax = +1, annot = True, cmap = 'coolwarm')"
   ]
  },
  {
   "cell_type": "code",
   "execution_count": null,
   "id": "ea3ba720",
   "metadata": {},
   "outputs": [],
   "source": []
  },
  {
   "cell_type": "markdown",
   "id": "f62bb4c4",
   "metadata": {},
   "source": [
    "## Distribuição de frequência\n",
    "#### Vou aplicar aqui também uma visualização de histograma, isso porque na modelagem preditiva assume em alguns momento que a variavél dependente segue uma distribuição continua, mas muitas vezes com dados reais isso não se aplica "
   ]
  },
  {
   "cell_type": "code",
   "execution_count": 26,
   "id": "fb2ec578",
   "metadata": {},
   "outputs": [
    {
     "data": {
      "image/png": "[encoded data removed]",
      "text/plain": [
       "<Figure size 936x648 with 1 Axes>"
      ]
     },
     "metadata": {
      "needs_background": "light"
     },
     "output_type": "display_data"
    }
   ],
   "source": [
    "#a  distribuição aparenta estar continua e sem discrepãncia\n",
    "\n",
    "ax = sns.distplot(dados_cervejas['consumo'])\n",
    "ax.figure.set_size_inches(13, 9)\n",
    "ax.set_title('Distrubuição de Frequências', fontsize=20)\n",
    "ax.set_ylabel('Consumo de Cerveja(Litros)', fontsize=16)\n",
    "ax\n",
    "\n",
    "warnings.filterwarnings('ignore')"
   ]
  },
  {
   "cell_type": "code",
   "execution_count": null,
   "id": "3b197d95",
   "metadata": {},
   "outputs": [],
   "source": []
  },
  {
   "cell_type": "markdown",
   "id": "dbbaa6ea",
   "metadata": {},
   "source": [
    "## Análise da Variavél  dependente\n",
    "##### aplico uma visualização com box-plot que possibilida encontrar outliers e também entender a distribuicao da mediana dessa variavel dependente "
   ]
  },
  {
   "cell_type": "code",
   "execution_count": 27,
   "id": "8821372b",
   "metadata": {
    "scrolled": true
   },
   "outputs": [
    {
     "data": {
      "image/png": "[encoded data removed]",
      "text/plain": [
       "<Figure size 864x432 with 1 Axes>"
      ]
     },
     "metadata": {
      "needs_background": "light"
     },
     "output_type": "display_data"
    }
   ],
   "source": [
    "#visualização com boxplot \n",
    "\n",
    "ax = sns.boxplot(data=dados_cervejas['consumo'], orient='v')\n",
    "ax.figure.set_size_inches(12, 6)\n",
    "ax.set_title('Consumo de Cerveja', fontsize=20)\n",
    "ax.set_xlabel('Litros', fontsize=16)\n",
    "\n",
    "\n",
    "warnings.filterwarnings('ignore')"
   ]
  },
  {
   "cell_type": "code",
   "execution_count": null,
   "id": "66d11712",
   "metadata": {},
   "outputs": [],
   "source": []
  },
  {
   "cell_type": "markdown",
   "id": "9b05b178",
   "metadata": {},
   "source": [
    "## Variável dependente e Variáveis explicativas\n",
    "##### Até esse momento no dataset, consigo identificar que minha variavél dependente (consumo) tem forte correlação com as minhas variavéis independentes( temp_media, tem_max, fds, chuva)"
   ]
  },
  {
   "cell_type": "code",
   "execution_count": 28,
   "id": "2677b364",
   "metadata": {},
   "outputs": [
    {
     "data": {
      "image/png": "[encoded data removed]",
      "text/plain": [
       "<Figure size 900x180 with 5 Axes>"
      ]
     },
     "metadata": {
      "needs_background": "light"
     },
     "output_type": "display_data"
    }
   ],
   "source": [
    "#ploto as variaveis, consigo compreender aqui que o mais proxímo de uma regressão é tempe_max, \n",
    "\n",
    "ax = sns.pairplot(dados_cervejas, y_vars='consumo', x_vars=['temp_min', 'temp_media', 'temp_max', 'chuva', 'fds'])\n",
    "ax.fig.suptitle('Dispersão entre as Variáveis', fontsize=20, y=1.04)\n",
    "ax\n",
    "\n",
    "warnings.filterwarnings('ignore')"
   ]
  },
  {
   "cell_type": "code",
   "execution_count": null,
   "id": "6964951e",
   "metadata": {},
   "outputs": [],
   "source": []
  },
  {
   "cell_type": "markdown",
   "id": "1dc910bc",
   "metadata": {},
   "source": [
    "# Modelo Machine Learning com aprendizado supervisionado\n",
    "\n",
    "- A modelagem de regressão trata de um estudo para prever o valor médio de uma variável com base no valor de outra.  A variável que deseja prever é chamada de variável dependente. A variável que é usada para prever o valor de outra variável é chamada de variável independente."
   ]
  },
  {
   "cell_type": "code",
   "execution_count": null,
   "id": "bbfe99a9",
   "metadata": {},
   "outputs": [],
   "source": []
  },
  {
   "cell_type": "markdown",
   "id": "5f8dd6c4",
   "metadata": {},
   "source": [
    "## Separação dos dados"
   ]
  },
  {
   "cell_type": "code",
   "execution_count": 29,
   "id": "223d996c",
   "metadata": {},
   "outputs": [],
   "source": [
    "# importo a classe/package que ira separar os dados de treino e teste\n",
    "from sklearn.model_selection import train_test_split\n",
    "\n",
    "#aplico a separacao\n",
    "y= dados_cervejas['consumo']\n",
    "X= dados_cervejas[['temp_max', 'chuva', 'fds']]\n",
    "\n",
    "X_train, X_test, y_train, y_test = train_test_split(X, y, test_size=0.3, random_state=2811)"
   ]
  },
  {
   "cell_type": "code",
   "execution_count": null,
   "id": "53d87b0c",
   "metadata": {},
   "outputs": [],
   "source": []
  },
  {
   "cell_type": "markdown",
   "id": "706db874",
   "metadata": {},
   "source": [
    "## Treinamento do modelo "
   ]
  },
  {
   "cell_type": "code",
   "execution_count": 31,
   "id": "9e9e6800",
   "metadata": {
    "scrolled": false
   },
   "outputs": [
    {
     "data": {
      "text/html": [
       "<style>#sk-container-id-2 {color: black;background-color: white;}#sk-container-id-2 pre{padding: 0;}#sk-container-id-2 div.sk-toggleable {background-color: white;}#sk-container-id-2 label.sk-toggleable__label {cursor: pointer;display: block;width: 100%;margin-bottom: 0;padding: 0.3em;box-sizing: border-box;text-align: center;}#sk-container-id-2 label.sk-toggleable__label-arrow:before {content: \"▸\";float: left;margin-right: 0.25em;color: #696969;}#sk-container-id-2 label.sk-toggleable__label-arrow:hover:before {color: black;}#sk-container-id-2 div.sk-estimator:hover label.sk-toggleable__label-arrow:before {color: black;}#sk-container-id-2 div.sk-toggleable__content {max-height: 0;max-width: 0;overflow: hidden;text-align: left;background-color: #f0f8ff;}#sk-container-id-2 div.sk-toggleable__content pre {margin: 0.2em;color: black;border-radius: 0.25em;background-color: #f0f8ff;}#sk-container-id-2 input.sk-toggleable__control:checked~div.sk-toggleable__content {max-height: 200px;max-width: 100%;overflow: auto;}#sk-container-id-2 input.sk-toggleable__control:checked~label.sk-toggleable__label-arrow:before {content: \"▾\";}#sk-container-id-2 div.sk-estimator input.sk-toggleable__control:checked~label.sk-toggleable__label {background-color: #d4ebff;}#sk-container-id-2 div.sk-label input.sk-toggleable__control:checked~label.sk-toggleable__label {background-color: #d4ebff;}#sk-container-id-2 input.sk-hidden--visually {border: 0;clip: rect(1px 1px 1px 1px);clip: rect(1px, 1px, 1px, 1px);height: 1px;margin: -1px;overflow: hidden;padding: 0;position: absolute;width: 1px;}#sk-container-id-2 div.sk-estimator {font-family: monospace;background-color: #f0f8ff;border: 1px dotted black;border-radius: 0.25em;box-sizing: border-box;margin-bottom: 0.5em;}#sk-container-id-2 div.sk-estimator:hover {background-color: #d4ebff;}#sk-container-id-2 div.sk-parallel-item::after {content: \"\";width: 100%;border-bottom: 1px solid gray;flex-grow: 1;}#sk-container-id-2 div.sk-label:hover label.sk-toggleable__label {background-color: #d4ebff;}#sk-container-id-2 div.sk-serial::before {content: \"\";position: absolute;border-left: 1px solid gray;box-sizing: border-box;top: 0;bottom: 0;left: 50%;z-index: 0;}#sk-container-id-2 div.sk-serial {display: flex;flex-direction: column;align-items: center;background-color: white;padding-right: 0.2em;padding-left: 0.2em;position: relative;}#sk-container-id-2 div.sk-item {position: relative;z-index: 1;}#sk-container-id-2 div.sk-parallel {display: flex;align-items: stretch;justify-content: center;background-color: white;position: relative;}#sk-container-id-2 div.sk-item::before, #sk-container-id-2 div.sk-parallel-item::before {content: \"\";position: absolute;border-left: 1px solid gray;box-sizing: border-box;top: 0;bottom: 0;left: 50%;z-index: -1;}#sk-container-id-2 div.sk-parallel-item {display: flex;flex-direction: column;z-index: 1;position: relative;background-color: white;}#sk-container-id-2 div.sk-parallel-item:first-child::after {align-self: flex-end;width: 50%;}#sk-container-id-2 div.sk-parallel-item:last-child::after {align-self: flex-start;width: 50%;}#sk-container-id-2 div.sk-parallel-item:only-child::after {width: 0;}#sk-container-id-2 div.sk-dashed-wrapped {border: 1px dashed gray;margin: 0 0.4em 0.5em 0.4em;box-sizing: border-box;padding-bottom: 0.4em;background-color: white;}#sk-container-id-2 div.sk-label label {font-family: monospace;font-weight: bold;display: inline-block;line-height: 1.2em;}#sk-container-id-2 div.sk-label-container {text-align: center;}#sk-container-id-2 div.sk-container {/* jupyter's `normalize.less` sets `[hidden] { display: none; }` but bootstrap.min.css set `[hidden] { display: none !important; }` so we also need the `!important` here to be able to override the default hidden behavior on the sphinx rendered scikit-learn.org. See: https://github.com/scikit-learn/scikit-learn/issues/21755 */display: inline-block !important;position: relative;}#sk-container-id-2 div.sk-text-repr-fallback {display: none;}</style><div id=\"sk-container-id-2\" class=\"sk-top-container\"><div class=\"sk-text-repr-fallback\"><pre>LinearRegression()</pre><b>In a Jupyter environment, please rerun this cell to show the HTML representation or trust the notebook. <br />On GitHub, the HTML representation is unable to render, please try loading this page with nbviewer.org.</b></div><div class=\"sk-container\" hidden><div class=\"sk-item\"><div class=\"sk-estimator sk-toggleable\"><input class=\"sk-toggleable__control sk-hidden--visually\" id=\"sk-estimator-id-2\" type=\"checkbox\" checked><label for=\"sk-estimator-id-2\" class=\"sk-toggleable__label sk-toggleable__label-arrow\">LinearRegression</label><div class=\"sk-toggleable__content\"><pre>LinearRegression()</pre></div></div></div></div></div>"
      ],
      "text/plain": [
       "LinearRegression()"
      ]
     },
     "execution_count": 31,
     "metadata": {},
     "output_type": "execute_result"
    }
   ],
   "source": [
    "# importo a classe/package da regressão linear e as métricas para o modelo\n",
    "from sklearn.linear_model import LinearRegression\n",
    "from sklearn import metrics\n",
    "\n",
    "\n",
    "#instancio o modelo\n",
    "modelo = LinearRegression()\n",
    "\n",
    "\n",
    "#Crio o modelo\n",
    "modelo.fit(X_train, y_train)\n"
   ]
  },
  {
   "cell_type": "code",
   "execution_count": null,
   "id": "3ede599f",
   "metadata": {},
   "outputs": [],
   "source": []
  },
  {
   "cell_type": "markdown",
   "id": "26f33149",
   "metadata": {},
   "source": [
    "# Previsões Pontuais que podem ser analisadas"
   ]
  },
  {
   "cell_type": "code",
   "execution_count": 31,
   "id": "524afd5c",
   "metadata": {},
   "outputs": [
    {
     "data": {
      "text/html": [
       "<div>\n",
       "<style scoped>\n",
       "    .dataframe tbody tr th:only-of-type {\n",
       "        vertical-align: middle;\n",
       "    }\n",
       "\n",
       "    .dataframe tbody tr th {\n",
       "        vertical-align: top;\n",
       "    }\n",
       "\n",
       "    .dataframe thead th {\n",
       "        text-align: right;\n",
       "    }\n",
       "</style>\n",
       "<table border=\"1\" class=\"dataframe\">\n",
       "  <thead>\n",
       "    <tr style=\"text-align: right;\">\n",
       "      <th></th>\n",
       "      <th>temp_max</th>\n",
       "      <th>chuva</th>\n",
       "      <th>fds</th>\n",
       "    </tr>\n",
       "  </thead>\n",
       "  <tbody>\n",
       "    <tr>\n",
       "      <th>5</th>\n",
       "      <td>30.5</td>\n",
       "      <td>12.2</td>\n",
       "      <td>0</td>\n",
       "    </tr>\n",
       "  </tbody>\n",
       "</table>\n",
       "</div>"
      ],
      "text/plain": [
       "   temp_max  chuva  fds\n",
       "5      30.5   12.2    0"
      ]
     },
     "execution_count": 31,
     "metadata": {},
     "output_type": "execute_result"
    }
   ],
   "source": [
    "# primeiro registro do teste \n",
    "entrada = X_test[0:1]\n",
    "entrada"
   ]
  },
  {
   "cell_type": "code",
   "execution_count": 34,
   "id": "50a21563",
   "metadata": {},
   "outputs": [
    {
     "name": "stdout",
     "output_type": "stream",
     "text": [
      "19569.90 litros\n"
     ]
    }
   ],
   "source": [
    "#estimavas que podem ser alteradas\n",
    "temp_max=12.0\n",
    "chuva= 0\n",
    "fds= 1\n",
    "entrada=[[temp_max, chuva, fds]]\n",
    "\n",
    "print('{0:.2f} litros'.format(modelo.predict(entrada)[0]))"
   ]
  },
  {
   "cell_type": "code",
   "execution_count": null,
   "id": "ebcc7fc1",
   "metadata": {},
   "outputs": [],
   "source": []
  },
  {
   "cell_type": "markdown",
   "id": "cd8b7121",
   "metadata": {},
   "source": [
    "## Coeficiente de determinação dos dados de treino\n",
    "##### O R-quadrado é uma medida estatística que explica o quão próximo os dados estão da linha de regressão ajustada,  com essa medida eu consigo determinar quão bem o meu modelo se ajustou aos dados"
   ]
  },
  {
   "cell_type": "code",
   "execution_count": 39,
   "id": "a1817d41",
   "metadata": {},
   "outputs": [
    {
     "name": "stdout",
     "output_type": "stream",
     "text": [
      "R² = 0.73\n"
     ]
    }
   ],
   "source": [
    "#calculo o score, modelo vai de 0 a 1 \n",
    "#logica R-quadrado = Variação explicada/Variação total\n",
    "\n",
    "print('R² = {}'.format(modelo.score(X_train, y_train).round(2)))"
   ]
  },
  {
   "cell_type": "code",
   "execution_count": null,
   "id": "515dbe88",
   "metadata": {},
   "outputs": [],
   "source": []
  },
  {
   "cell_type": "markdown",
   "id": "38c10a3f",
   "metadata": {},
   "source": [
    "## Coeficiente de determinação dos dados de teste"
   ]
  },
  {
   "cell_type": "code",
   "execution_count": 40,
   "id": "bbaf98f0",
   "metadata": {},
   "outputs": [
    {
     "name": "stdout",
     "output_type": "stream",
     "text": [
      "R² = 0.69\n"
     ]
    }
   ],
   "source": [
    "#variavél que recebe o modelo com meu X_test\n",
    "previsao = modelo.predict(X_test)\n",
    "\n",
    "\n",
    "#explicacao dos resultados dos meus Y\n",
    "print('R² = %s' % metrics.r2_score(y_test, previsao).round(2)) \n",
    "\n",
    "#O modelo conseguiu explicar quase 70%  da variação do fenômeno (consumo) pelas variavéis explicativas (temp_max', 'chuva', 'fds')"
   ]
  },
  {
   "cell_type": "code",
   "execution_count": null,
   "id": "50690761",
   "metadata": {},
   "outputs": [],
   "source": []
  },
  {
   "cell_type": "markdown",
   "id": "134fc804",
   "metadata": {},
   "source": [
    "##  Obtendo o intercepto do consumo de cerveja\n",
    "#### O intercepto representa o efeito médio do Consumo de Cerveja(Variavél Y)  tendo todas as variáveis explicativas excluídas do modelo ou seja, se eu excluir do modelo Temperatura Máxima,Chuva."
   ]
  },
  {
   "cell_type": "code",
   "execution_count": 30,
   "id": "3002b0f9",
   "metadata": {},
   "outputs": [
    {
     "data": {
      "text/plain": [
       "5951.9763393124485"
      ]
     },
     "execution_count": 30,
     "metadata": {},
     "output_type": "execute_result"
    }
   ],
   "source": [
    "#Excluindo as variveis X meu consumo medio de cerveja é de quase 6mil litros\n",
    "modelo.intercept_"
   ]
  },
  {
   "cell_type": "code",
   "execution_count": null,
   "id": "3f249b69",
   "metadata": {},
   "outputs": [],
   "source": []
  },
  {
   "cell_type": "markdown",
   "id": "cce01f04",
   "metadata": {},
   "source": [
    "## Coeficiente e Intercept no modelo\n",
    "#### Aqui eu quero entender qual a variação média que eu tenho no consumo de cerveja se a temperatura max se alterar e as demais variaveis(chuva e finais de semanas permancerem constantes"
   ]
  },
  {
   "cell_type": "code",
   "execution_count": 27,
   "id": "c283fa8a",
   "metadata": {},
   "outputs": [
    {
     "data": {
      "text/plain": [
       "array([ 684.73675898,  -60.7824355 , 5401.08333866])"
      ]
     },
     "execution_count": 27,
     "metadata": {},
     "output_type": "execute_result"
    }
   ],
   "source": [
    "# os coeficientes das minhas variaveis X (temp_max', 'chuva', 'fds')\n",
    "modelo.coef_"
   ]
  },
  {
   "cell_type": "code",
   "execution_count": 29,
   "id": "63b1267c",
   "metadata": {},
   "outputs": [
    {
     "data": {
      "text/html": [
       "<div>\n",
       "<style scoped>\n",
       "    .dataframe tbody tr th:only-of-type {\n",
       "        vertical-align: middle;\n",
       "    }\n",
       "\n",
       "    .dataframe tbody tr th {\n",
       "        vertical-align: top;\n",
       "    }\n",
       "\n",
       "    .dataframe thead th {\n",
       "        text-align: right;\n",
       "    }\n",
       "</style>\n",
       "<table border=\"1\" class=\"dataframe\">\n",
       "  <thead>\n",
       "    <tr style=\"text-align: right;\">\n",
       "      <th></th>\n",
       "      <th>Parâmetros</th>\n",
       "    </tr>\n",
       "  </thead>\n",
       "  <tbody>\n",
       "    <tr>\n",
       "      <th>Intercepto</th>\n",
       "      <td>5951.976339</td>\n",
       "    </tr>\n",
       "    <tr>\n",
       "      <th>Temperatura Maxima</th>\n",
       "      <td>684.736759</td>\n",
       "    </tr>\n",
       "    <tr>\n",
       "      <th>Chuva</th>\n",
       "      <td>-60.782435</td>\n",
       "    </tr>\n",
       "    <tr>\n",
       "      <th>Final de semana</th>\n",
       "      <td>5401.083339</td>\n",
       "    </tr>\n",
       "  </tbody>\n",
       "</table>\n",
       "</div>"
      ],
      "text/plain": [
       "                     Parâmetros\n",
       "Intercepto          5951.976339\n",
       "Temperatura Maxima   684.736759\n",
       "Chuva                -60.782435\n",
       "Final de semana     5401.083339"
      ]
     },
     "execution_count": 29,
     "metadata": {},
     "output_type": "execute_result"
    }
   ],
   "source": [
    "#lista nomeando as variaveis X\n",
    "index=['Intercepto', 'Temperatura Maxima', 'Chuva', \"Final de semana\"]\n",
    "\n",
    "\n",
    "#incluo os coeficientes dentro dataframe\n",
    "modelo_coef = pd.DataFrame(data=np.append(modelo.intercept_, modelo.coef_), index=index, columns=['Parâmetros'])\n",
    "modelo_coef"
   ]
  },
  {
   "cell_type": "markdown",
   "id": "7ad67e02",
   "metadata": {},
   "source": [
    "### Interpretação dos resultados do modelo \n"
   ]
  },
  {
   "cell_type": "markdown",
   "id": "9452e5c7",
   "metadata": {},
   "source": [
    "- Intercepto: Excluindo o efeito das variáveis explicativas ('temp_max', 'chuva', 'fds' ) o efeito médio no Consumo de Cerveja seria de 5951,98 litros (quase 6mil litros)\n",
    "- Temperatura Máxima: Mantendo os valores da Chuva e Final de Semana constantes, o acréscimo de 1°C na Temperatura Máxima gera uma variação média no Consumo de Cerveja de 684,74 litros\n",
    "- Chuva: mantendoos valores de Temperatura Máxima e Final de Semana constantes o acréscimo de 1mm de Chuva gera uma variação média no Consumo de Cerveja de -60,78 litros.\n",
    "- Final de Semana: (Sim/Não) Mantendo os valores de Temperatura Máxima e Chuva constantes, o fato de o dia ser classificado como Final de Semana gera uma variação média no Consumo de Cerveja de 5401,08 litros."
   ]
  }
 ],
 "metadata": {
  "kernelspec": {
   "display_name": "Python 3 (ipykernel)",
   "language": "python",
   "name": "python3"
  },
  "language_info": {
   "codemirror_mode": {
    "name": "ipython",
    "version": 3
   },
   "file_extension": ".py",
   "mimetype": "text/x-python",
   "name": "python",
   "nbconvert_exporter": "python",
   "pygments_lexer": "ipython3",
   "version": "3.9.12"
  }
 },
 "nbformat": 4,
 "nbformat_minor": 5
}
